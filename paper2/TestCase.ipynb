{
 "cells": [
  {
   "cell_type": "code",
   "execution_count": 1,
   "metadata": {},
   "outputs": [
    {
     "name": "stderr",
     "output_type": "stream",
     "text": [
      "Using TensorFlow backend.\n"
     ]
    }
   ],
   "source": [
    "import UOI"
   ]
  },
  {
   "cell_type": "code",
   "execution_count": 2,
   "metadata": {},
   "outputs": [],
   "source": [
    "uoi = UOI.UOI()"
   ]
  },
  {
   "cell_type": "code",
   "execution_count": 3,
   "metadata": {},
   "outputs": [],
   "source": [
    "trainingFiles = [\"dataset/CoNNL2003eng/train.txt\"]\n",
    "validFiles = ['dataset/CoNNL2003eng/valid.txt']\n",
    "train_sentences, train_taggings, valid_sentences, valid_taggings = uoi.read_dataset(training_files=trainingFiles, validate_files=validFiles)"
   ]
  },
  {
   "cell_type": "code",
   "execution_count": 4,
   "metadata": {},
   "outputs": [
    {
     "data": {
      "text/plain": [
       "[['EU', 'rejects', 'German', 'call', 'to', 'boycott', 'British', 'lamb', '.'],\n",
       " ['Peter', 'Blackburn'],\n",
       " ['BRUSSELS', '1996-08-22']]"
      ]
     },
     "execution_count": 4,
     "metadata": {},
     "output_type": "execute_result"
    }
   ],
   "source": [
    "train_sentences[0:3]"
   ]
  },
  {
   "cell_type": "code",
   "execution_count": 5,
   "metadata": {},
   "outputs": [
    {
     "name": "stdout",
     "output_type": "stream",
     "text": [
      "Embedding...\n",
      "Embedding open file\n",
      "Embedding for loop\n",
      "Embedding done\n",
      "Embedding all done\n",
      "WARNING:tensorflow:From /home/ubuntu/.local/lib/python3.6/site-packages/tensorflow/python/framework/op_def_library.py:263: colocate_with (from tensorflow.python.framework.ops) is deprecated and will be removed in a future version.\n",
      "Instructions for updating:\n",
      "Colocations handled automatically by placer.\n",
      "WARNING:tensorflow:From /home/ubuntu/.local/lib/python3.6/site-packages/keras/backend/tensorflow_backend.py:3445: calling dropout (from tensorflow.python.ops.nn_ops) with keep_prob is deprecated and will be removed in a future version.\n",
      "Instructions for updating:\n",
      "Please use `rate` instead of `keep_prob`. Rate should be set to `rate = 1 - keep_prob`.\n",
      "__________________________________________________________________________________________________\n",
      "Layer (type)                    Output Shape         Param #     Connected to                     \n",
      "==================================================================================================\n",
      "Input_Char (InputLayer)         (None, None, 27)     0                                            \n",
      "__________________________________________________________________________________________________\n",
      "Input_Word (InputLayer)         (None, None)         0                                            \n",
      "__________________________________________________________________________________________________\n",
      "Embedding_Char_Pre (Embedding)  (None, None, 27, 100 8600        Input_Char[0][0]                 \n",
      "__________________________________________________________________________________________________\n",
      "Embedding_Word (Embedding)      (None, None, 100)    40000200    Input_Word[0][0]                 \n",
      "__________________________________________________________________________________________________\n",
      "Embedding_Char (TimeDistributed (None, None, 100)    60400       Embedding_Char_Pre[0][0]         \n",
      "__________________________________________________________________________________________________\n",
      "Embedding (Concatenate)         (None, None, 200)    0           Embedding_Word[0][0]             \n",
      "                                                                 Embedding_Char[0][0]             \n",
      "__________________________________________________________________________________________________\n",
      "LSTM_1 (Bidirectional)          (None, None, 64)     59648       Embedding[0][0]                  \n",
      "__________________________________________________________________________________________________\n",
      "LSTM_2 (Bidirectional)          (None, None, 64)     59648       Embedding[0][0]                  \n",
      "__________________________________________________________________________________________________\n",
      "LSTM_3 (Bidirectional)          (None, None, 64)     59648       Embedding[0][0]                  \n",
      "__________________________________________________________________________________________________\n",
      "LSTM_4 (Bidirectional)          (None, None, 64)     59648       Embedding[0][0]                  \n",
      "__________________________________________________________________________________________________\n",
      "LSTM_5 (Bidirectional)          (None, None, 64)     59648       Embedding[0][0]                  \n",
      "__________________________________________________________________________________________________\n",
      "LSTM_6 (Bidirectional)          (None, None, 64)     59648       Embedding[0][0]                  \n",
      "__________________________________________________________________________________________________\n",
      "LSTM_7 (Bidirectional)          (None, None, 64)     59648       Embedding[0][0]                  \n",
      "__________________________________________________________________________________________________\n",
      "LSTM_8 (Bidirectional)          (None, None, 64)     59648       Embedding[0][0]                  \n",
      "__________________________________________________________________________________________________\n",
      "LSTM_9 (Bidirectional)          (None, None, 64)     59648       Embedding[0][0]                  \n",
      "__________________________________________________________________________________________________\n",
      "LSTM_10 (Bidirectional)         (None, None, 64)     59648       Embedding[0][0]                  \n",
      "__________________________________________________________________________________________________\n",
      "LSTM_11 (Bidirectional)         (None, None, 64)     59648       Embedding[0][0]                  \n",
      "__________________________________________________________________________________________________\n",
      "LSTM_12 (Bidirectional)         (None, None, 64)     59648       Embedding[0][0]                  \n",
      "__________________________________________________________________________________________________\n",
      "LSTM_13 (Bidirectional)         (None, None, 64)     59648       Embedding[0][0]                  \n",
      "__________________________________________________________________________________________________\n",
      "LSTM_14 (Bidirectional)         (None, None, 64)     59648       Embedding[0][0]                  \n",
      "__________________________________________________________________________________________________\n",
      "LSTM_15 (Bidirectional)         (None, None, 64)     59648       Embedding[0][0]                  \n",
      "__________________________________________________________________________________________________\n",
      "LSTM_16 (Bidirectional)         (None, None, 64)     59648       Embedding[0][0]                  \n",
      "__________________________________________________________________________________________________\n",
      "Concatenation (Concatenate)     (None, None, 1024)   0           LSTM_1[0][0]                     \n",
      "                                                                 LSTM_2[0][0]                     \n",
      "                                                                 LSTM_3[0][0]                     \n",
      "                                                                 LSTM_4[0][0]                     \n",
      "                                                                 LSTM_5[0][0]                     \n",
      "                                                                 LSTM_6[0][0]                     \n",
      "                                                                 LSTM_7[0][0]                     \n",
      "                                                                 LSTM_8[0][0]                     \n",
      "                                                                 LSTM_9[0][0]                     \n",
      "                                                                 LSTM_10[0][0]                    \n",
      "                                                                 LSTM_11[0][0]                    \n",
      "                                                                 LSTM_12[0][0]                    \n",
      "                                                                 LSTM_13[0][0]                    \n",
      "                                                                 LSTM_14[0][0]                    \n",
      "                                                                 LSTM_15[0][0]                    \n",
      "                                                                 LSTM_16[0][0]                    \n",
      "__________________________________________________________________________________________________\n",
      "Dense (Dense)                   (None, None, 9)      9225        Concatenation[0][0]              \n",
      "==================================================================================================\n",
      "Total params: 41,032,793\n",
      "Trainable params: 1,032,593\n",
      "Non-trainable params: 40,000,200\n",
      "__________________________________________________________________________________________________\n",
      "loading model from:  model.h5\n"
     ]
    }
   ],
   "source": [
    "uoi.train()"
   ]
  },
  {
   "cell_type": "code",
   "execution_count": 6,
   "metadata": {},
   "outputs": [],
   "source": [
    "predict_file='dataset/CoNNL2003eng/test.txt'\n",
    "predicts, true = uoi.predict(predict_file)"
   ]
  },
  {
   "cell_type": "code",
   "execution_count": 7,
   "metadata": {},
   "outputs": [
    {
     "name": "stdout",
     "output_type": "stream",
     "text": [
      "[['O', 'O', 'B-LOC', 'O', 'B-PER', 'O', 'O', 'B-LOC', 'O', 'O', 'O', 'O'], ['B-PER', 'I-ORG'], ['B-LOC', 'O', 'B-LOC', 'I-LOC', 'I-LOC', 'O'], ['B-LOC', 'O', 'O', 'O', 'O', 'O', 'B-MISC', 'I-MISC', 'O', 'O', 'O', 'O', 'O', 'O', 'O', 'B-LOC', 'O', 'O', 'O', 'O', 'O', 'O', 'O', 'O', 'O'], ['O', 'B-LOC', 'O', 'O', 'O', 'O', 'O', 'O', 'O', 'O', 'O', 'O', 'O', 'O', 'O', 'O', 'O', 'O', 'O', 'O', 'O', 'O', 'O', 'B-LOC', 'O']]\n"
     ]
    }
   ],
   "source": [
    "print(predicts[0:5])"
   ]
  },
  {
   "cell_type": "code",
   "execution_count": 8,
   "metadata": {},
   "outputs": [
    {
     "name": "stdout",
     "output_type": "stream",
     "text": [
      "[['O', 'O', 'B-LOC', 'O', 'O', 'O', 'O', 'B-PER', 'O', 'O', 'O', 'O'], ['B-PER', 'I-PER'], ['B-LOC', 'O', 'B-LOC', 'I-LOC', 'I-LOC', 'O'], ['B-LOC', 'O', 'O', 'O', 'O', 'O', 'B-MISC', 'I-MISC', 'O', 'O', 'O', 'O', 'O', 'O', 'O', 'B-LOC', 'O', 'O', 'O', 'O', 'O', 'O', 'O', 'O', 'O'], ['O', 'B-LOC', 'O', 'O', 'O', 'O', 'O', 'O', 'O', 'O', 'O', 'O', 'O', 'O', 'O', 'O', 'O', 'O', 'O', 'O', 'O', 'O', 'O', 'B-LOC', 'O']]\n"
     ]
    }
   ],
   "source": [
    "print(true[0:5])"
   ]
  },
  {
   "cell_type": "code",
   "execution_count": 9,
   "metadata": {},
   "outputs": [
    {
     "data": {
      "text/plain": [
       "(0.9300106044662406, 0.9316572238081343, 0.9308331859312164)"
      ]
     },
     "execution_count": 9,
     "metadata": {},
     "output_type": "execute_result"
    }
   ],
   "source": [
    "uoi.evaluate([],[])"
   ]
  },
  {
   "cell_type": "code",
   "execution_count": null,
   "metadata": {},
   "outputs": [],
   "source": []
  }
 ],
 "metadata": {
  "kernelspec": {
   "display_name": "Python 3",
   "language": "python",
   "name": "python3"
  },
  "language_info": {
   "codemirror_mode": {
    "name": "ipython",
    "version": 3
   },
   "file_extension": ".py",
   "mimetype": "text/x-python",
   "name": "python",
   "nbconvert_exporter": "python",
   "pygments_lexer": "ipython3",
   "version": "3.6.7"
  }
 },
 "nbformat": 4,
 "nbformat_minor": 2
}
